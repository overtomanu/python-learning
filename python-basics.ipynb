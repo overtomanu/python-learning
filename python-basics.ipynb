{
 "cells": [
  {
   "cell_type": "markdown",
   "metadata": {},
   "source": [
    "# Python basics"
   ]
  },
  {
   "cell_type": "markdown",
   "metadata": {},
   "source": [
    "Executed with python version 3.11.9"
   ]
  },
  {
   "cell_type": "markdown",
   "metadata": {},
   "source": [
    "## Basic syntax and data types"
   ]
  },
  {
   "cell_type": "code",
   "execution_count": 20,
   "metadata": {},
   "outputs": [
    {
     "name": "stdout",
     "output_type": "stream",
     "text": [
      "Hello world\n",
      "2 1 4 1.5 0.3333333333333333 1024 2 101 156\n",
      "42 3.1416\n",
      "5.551115123125783e-17\n",
      "[5, 3, 4, 1]\n",
      "{2, 3}\n",
      "{'k1': 'v1', 3: 54}\n",
      "('string value', 5, 3, 4, 1)\n"
     ]
    }
   ],
   "source": [
    "# strings, comma prints space\n",
    "print(\"Hello\" , \"world\")\n",
    "\n",
    "# addition, subtraction, multiplication, division, exponentiation, modulus, expression BODMAS rule, parentheses expression evaluation\n",
    "print(1+1, 2-1, 2*2, 3/2, 1/3, 2**10, 12%5, 2+10*10-1, (10+2)*(10+3))\n",
    "\n",
    "# int and float\n",
    "print(42 , 3.1416)\n",
    "\n",
    "# floating point math is not accurate\n",
    "print(0.1+0.2-0.3)\n",
    "\n",
    "# list\n",
    "print([5,3,4,1])\n",
    "\n",
    "# set, 2 is printed only once\n",
    "print({2,3,2})\n",
    "\n",
    "# map\n",
    "print({\"k1\":\"v1\",3:54})\n",
    "\n",
    "# tuple\n",
    "print((\"string value\",5,3,4,1))"
   ]
  },
  {
   "cell_type": "code",
   "execution_count": 9,
   "metadata": {},
   "outputs": [
    {
     "name": "stdout",
     "output_type": "stream",
     "text": [
      "40\n",
      "80\n",
      "6400\n",
      "<class 'int'>\n",
      "<class 'float'>\n",
      "<class 'tuple'>\n",
      "10.0\n"
     ]
    }
   ],
   "source": [
    "# dynamic typing in python\n",
    "a=10\n",
    "a=a+a\n",
    "a=a+a\n",
    "print(a)\n",
    "a+=a\n",
    "print(a)\n",
    "a*=a\n",
    "print(a)\n",
    "print(type(a))\n",
    "a=30.1\n",
    "print(type(a))\n",
    "a = (1,2)\n",
    "print(type(a))\n",
    "\n",
    "# The names you use when creating these labels need to follow a few rules:\n",
    "\n",
    "# 1. Names can not start with a number.\n",
    "# 2. There can be no spaces in the name, use _ instead.\n",
    "# 3. Can't use any of these symbols :'\",<>/?|\\()!@#$%^&*~-+\n",
    "# 4. It's considered best practice (PEP8) that names are lowercase.\n",
    "# 5. Avoid using the characters 'l' (lowercase letter el), 'O' (uppercase letter oh), \n",
    "#    or 'I' (uppercase letter eye) as single character variable names.\n",
    "# 6. Avoid using words that have special meaning in Python like \"list\" and \"str\"\n",
    "\n",
    "# Using variable names can be a very useful way to keep track of different variables in Python. \n",
    "# Use object names to keep better track of what's going on in your code!\n",
    "my_income = 100\n",
    "\n",
    "tax_rate = 0.1\n",
    "\n",
    "my_taxes = my_income*tax_rate\n",
    "print(my_taxes)"
   ]
  },
  {
   "cell_type": "code",
   "execution_count": 11,
   "metadata": {},
   "outputs": [
    {
     "name": "stdout",
     "output_type": "stream",
     "text": [
      "I don't do \"free work\" for anybody\n",
      "I don't do \"free work\" for anybody\n",
      "I don't do \"free work\" for anybody\n",
      "I don't do \n",
      "\t\"free work\" \n",
      "for anybody.\n",
      "H e l o H\n",
      "len(\"Hello\") =  5\n",
      "World Hello llo Wo\n",
      "acegik adgj abcdefghijk abcdefghijk\n",
      "ceg\n",
      "kjihgfedcba kigeca\n",
      "23 zzzzzzzzzz\n",
      "HELLO THIS IS A STRING | hello this is a string | Hello this is a string | Hello This Is A String\n",
      "['Hello', 'this', 'is', 'a', 'string']\n",
      "['Hello th', 's ', 's a str', 'ng']\n",
      "Insert another string with curly brackets: The inserted string\n",
      "The quick brown fox\n",
      "The fox fox fox\n",
      "The quick brown fox\n",
      "I'm going to inject some text here, and more text here.\n",
      "The result was 0.129\n",
      "Hello his name is Manu\n",
      "The result was 0.129\n"
     ]
    }
   ],
   "source": [
    "# string can be in single quotes or in double quotes\n",
    "print(\"I don't do\", '\"free work\" for anybody')\n",
    "# different ways to concatenate strings\n",
    "print(\"I don't do \"'\"free work\" for anybody')\n",
    "print(\"I don't do \"+'\"free work\" for anybody')\n",
    "\n",
    "# escape sequence in string\n",
    "print(\"I don't do \\n\\t\\\"free work\\\" \\nfor anybody..\\b\")\n",
    "\n",
    "# character in a string can be accessed by its index position\n",
    "# we can also use reverse indexing using negative numbers\n",
    "print(\"Hello\"[0], \"Hello\"[1], \"Hello\"[-3], \"Hello\"[-1], \"Hello\"[-5]);\n",
    "\n",
    "# getting length\n",
    "print('len(\"Hello\") = ',len(\"Hello\"))\n",
    "\n",
    "# getting substrings\n",
    "print(\"Hello World\"[6:], \"Hello World\"[:5], \"Hello World\"[2:8])\n",
    "mystring=\"abcdefghijk\"\n",
    "print(mystring[::2], mystring[::3], mystring[::], mystring[:])\n",
    "print(mystring[2:7:2])\n",
    "# step size -1 reverses the string\n",
    "print(mystring[::-1],mystring[::-2])\n",
    "\n",
    "print('2'+'3', 'z'*10)\n",
    "mystring=\"Hello this is a string\"\n",
    "print(mystring.upper(), \"|\", mystring.lower(), \"|\", mystring.capitalize(), \"|\", mystring.title())\n",
    "print(mystring.split())\n",
    "print(mystring.split('i'))\n",
    "\n",
    "print('Insert another string with curly brackets: {}'.format('The inserted string'))\n",
    "print('The {2} {1} {0}'.format('fox', 'brown', 'quick'))\n",
    "print('The {0} {0} {0}'.format('fox', 'brown', 'quick'))\n",
    "print('The {q} {b} {f}'.format(f='fox', b='brown', q='quick'))\n",
    "# old technique of string formatting\n",
    "x, y = 'some', 'more'\n",
    "print(\"I'm going to inject %s text here, and %s text here.\"%(x,y))\n",
    "result=100/777\n",
    "print(\"The result was {r:1.3f}\".format(r=result))\n",
    "\n",
    "# newer feature - f strings in python 3.6\n",
    "name=\"Manu\"\n",
    "print(f\"Hello his name is {name}\")\n",
    "print(f\"The result was {result:1.3f}\")\n",
    "# more info about formatting in python\n",
    "# https://pyformat.info/\n"
   ]
  },
  {
   "cell_type": "code",
   "execution_count": null,
   "metadata": {},
   "outputs": [],
   "source": []
  }
 ],
 "metadata": {
  "kernelspec": {
   "display_name": "Python 3",
   "language": "python",
   "name": "python3"
  },
  "language_info": {
   "codemirror_mode": {
    "name": "ipython",
    "version": 3
   },
   "file_extension": ".py",
   "mimetype": "text/x-python",
   "name": "python",
   "nbconvert_exporter": "python",
   "pygments_lexer": "ipython3",
   "version": "3.11.9"
  }
 },
 "nbformat": 4,
 "nbformat_minor": 2
}
