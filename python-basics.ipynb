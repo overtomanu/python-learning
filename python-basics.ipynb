{
 "cells": [
  {
   "cell_type": "markdown",
   "metadata": {},
   "source": [
    "# Python basics"
   ]
  },
  {
   "cell_type": "markdown",
   "metadata": {},
   "source": [
    "Executed with python version 3.11.9"
   ]
  },
  {
   "cell_type": "markdown",
   "metadata": {},
   "source": [
    "## Basic syntax and data types"
   ]
  },
  {
   "cell_type": "code",
   "execution_count": 3,
   "metadata": {},
   "outputs": [
    {
     "name": "stdout",
     "output_type": "stream",
     "text": [
      "Hello world\n",
      "42 3.1416\n",
      "[5, 3, 4, 1]\n",
      "{2, 3}\n",
      "{'k1': 'v1', 3: 54}\n",
      "('string value', 5, 3, 4, 1)\n"
     ]
    }
   ],
   "source": [
    "# strings, comma prints space\n",
    "print(\"Hello\" , \"world\")\n",
    "\n",
    "# int and float\n",
    "print(42 , 3.1416)\n",
    "\n",
    "# list\n",
    "print([5,3,4,1])\n",
    "\n",
    "# set, 2 is printed only once\n",
    "print({2,3,2})\n",
    "\n",
    "# map\n",
    "print({\"k1\":\"v1\",3:54})\n",
    "\n",
    "# tuple\n",
    "print((\"string value\",5,3,4,1))"
   ]
  },
  {
   "cell_type": "markdown",
   "metadata": {},
   "source": [
    "learn about venv"
   ]
  },
  {
   "cell_type": "code",
   "execution_count": null,
   "metadata": {},
   "outputs": [],
   "source": []
  }
 ],
 "metadata": {
  "kernelspec": {
   "display_name": "Python 3",
   "language": "python",
   "name": "python3"
  },
  "language_info": {
   "codemirror_mode": {
    "name": "ipython",
    "version": 3
   },
   "file_extension": ".py",
   "mimetype": "text/x-python",
   "name": "python",
   "nbconvert_exporter": "python",
   "pygments_lexer": "ipython3",
   "version": "3.11.9"
  }
 },
 "nbformat": 4,
 "nbformat_minor": 2
}
