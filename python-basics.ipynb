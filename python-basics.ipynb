{
 "cells": [
  {
   "cell_type": "markdown",
   "metadata": {},
   "source": [
    "# Python basics"
   ]
  },
  {
   "cell_type": "markdown",
   "metadata": {},
   "source": [
    "Executed with python version 3.11.9"
   ]
  },
  {
   "cell_type": "markdown",
   "metadata": {},
   "source": [
    "## Basic syntax and data types"
   ]
  },
  {
   "cell_type": "code",
   "execution_count": 20,
   "metadata": {},
   "outputs": [
    {
     "name": "stdout",
     "output_type": "stream",
     "text": [
      "Hello world\n",
      "2 1 4 1.5 0.3333333333333333 1024 2 101 156\n",
      "42 3.1416\n",
      "5.551115123125783e-17\n",
      "[5, 3, 4, 1]\n",
      "{2, 3}\n",
      "{'k1': 'v1', 3: 54}\n",
      "('string value', 5, 3, 4, 1)\n"
     ]
    }
   ],
   "source": [
    "# strings, comma prints space\n",
    "print(\"Hello\" , \"world\")\n",
    "\n",
    "# addition, subtraction, multiplication, division, exponentiation, modulus, expression BODMAS rule, parentheses expression evaluation\n",
    "print(1+1, 2-1, 2*2, 3/2, 1/3, 2**10, 12%5, 2+10*10-1, (10+2)*(10+3))\n",
    "\n",
    "# int and float\n",
    "print(42 , 3.1416)\n",
    "\n",
    "# floating point math is not accurate\n",
    "print(0.1+0.2-0.3)\n",
    "\n",
    "# list\n",
    "print([5,3,4,1])\n",
    "\n",
    "# set, 2 is printed only once\n",
    "print({2,3,2})\n",
    "\n",
    "# map\n",
    "print({\"k1\":\"v1\",3:54})\n",
    "\n",
    "# tuple\n",
    "print((\"string value\",5,3,4,1))"
   ]
  },
  {
   "cell_type": "code",
   "execution_count": 9,
   "metadata": {},
   "outputs": [
    {
     "name": "stdout",
     "output_type": "stream",
     "text": [
      "40\n",
      "80\n",
      "6400\n",
      "<class 'int'>\n",
      "<class 'float'>\n",
      "<class 'tuple'>\n",
      "10.0\n"
     ]
    }
   ],
   "source": [
    "# dynamic typing in python\n",
    "a=10\n",
    "a=a+a\n",
    "a=a+a\n",
    "print(a)\n",
    "a+=a\n",
    "print(a)\n",
    "a*=a\n",
    "print(a)\n",
    "print(type(a))\n",
    "a=30.1\n",
    "print(type(a))\n",
    "a = (1,2)\n",
    "print(type(a))\n",
    "\n",
    "# The names you use when creating these labels need to follow a few rules:\n",
    "\n",
    "# 1. Names can not start with a number.\n",
    "# 2. There can be no spaces in the name, use _ instead.\n",
    "# 3. Can't use any of these symbols :'\",<>/?|\\()!@#$%^&*~-+\n",
    "# 4. It's considered best practice (PEP8) that names are lowercase.\n",
    "# 5. Avoid using the characters 'l' (lowercase letter el), 'O' (uppercase letter oh), \n",
    "#    or 'I' (uppercase letter eye) as single character variable names.\n",
    "# 6. Avoid using words that have special meaning in Python like \"list\" and \"str\"\n",
    "\n",
    "# Using variable names can be a very useful way to keep track of different variables in Python. \n",
    "# Use object names to keep better track of what's going on in your code!\n",
    "my_income = 100\n",
    "\n",
    "tax_rate = 0.1\n",
    "\n",
    "my_taxes = my_income*tax_rate\n",
    "print(my_taxes)"
   ]
  },
  {
   "cell_type": "code",
   "execution_count": 11,
   "metadata": {},
   "outputs": [
    {
     "name": "stdout",
     "output_type": "stream",
     "text": [
      "I don't do \"free work\" for anybody\n",
      "I don't do \"free work\" for anybody\n",
      "I don't do \"free work\" for anybody\n",
      "I don't do \n",
      "\t\"free work\" \n",
      "for anybody.\n",
      "H e l o H\n",
      "len(\"Hello\") =  5\n",
      "World Hello llo Wo\n",
      "acegik adgj abcdefghijk abcdefghijk\n",
      "ceg\n",
      "kjihgfedcba kigeca\n",
      "23 zzzzzzzzzz\n",
      "HELLO THIS IS A STRING | hello this is a string | Hello this is a string | Hello This Is A String\n",
      "['Hello', 'this', 'is', 'a', 'string']\n",
      "['Hello th', 's ', 's a str', 'ng']\n",
      "Insert another string with curly brackets: The inserted string\n",
      "The quick brown fox\n",
      "The fox fox fox\n",
      "The quick brown fox\n",
      "I'm going to inject some text here, and more text here.\n",
      "The result was 0.129\n",
      "Hello his name is Manu\n",
      "The result was 0.129\n"
     ]
    }
   ],
   "source": [
    "# string can be in single quotes or in double quotes\n",
    "print(\"I don't do\", '\"free work\" for anybody')\n",
    "# different ways to concatenate strings\n",
    "print(\"I don't do \"'\"free work\" for anybody')\n",
    "print(\"I don't do \"+'\"free work\" for anybody')\n",
    "\n",
    "# escape sequence in string\n",
    "print(\"I don't do \\n\\t\\\"free work\\\" \\nfor anybody..\\b\")\n",
    "\n",
    "# character in a string can be accessed by its index position\n",
    "# we can also use reverse indexing using negative numbers\n",
    "print(\"Hello\"[0], \"Hello\"[1], \"Hello\"[-3], \"Hello\"[-1], \"Hello\"[-5]);\n",
    "\n",
    "# getting length\n",
    "print('len(\"Hello\") = ',len(\"Hello\"))\n",
    "\n",
    "# getting substrings\n",
    "print(\"Hello World\"[6:], \"Hello World\"[:5], \"Hello World\"[2:8])\n",
    "mystring=\"abcdefghijk\"\n",
    "print(mystring[::2], mystring[::3], mystring[::], mystring[:])\n",
    "print(mystring[2:7:2])\n",
    "# step size -1 reverses the string\n",
    "print(mystring[::-1],mystring[::-2])\n",
    "\n",
    "print('2'+'3', 'z'*10)\n",
    "mystring=\"Hello this is a string\"\n",
    "print(mystring.upper(), \"|\", mystring.lower(), \"|\", mystring.capitalize(), \"|\", mystring.title())\n",
    "print(mystring.split())\n",
    "print(mystring.split('i'))\n",
    "\n",
    "print('Insert another string with curly brackets: {}'.format('The inserted string'))\n",
    "print('The {2} {1} {0}'.format('fox', 'brown', 'quick'))\n",
    "print('The {0} {0} {0}'.format('fox', 'brown', 'quick'))\n",
    "print('The {q} {b} {f}'.format(f='fox', b='brown', q='quick'))\n",
    "# old technique of string formatting\n",
    "x, y = 'some', 'more'\n",
    "print(\"I'm going to inject %s text here, and %s text here.\"%(x,y))\n",
    "result=100/777\n",
    "print(\"The result was {r:1.3f}\".format(r=result))\n",
    "\n",
    "# newer feature - f strings in python 3.6\n",
    "name=\"Manu\"\n",
    "print(f\"Hello his name is {name}\")\n",
    "print(f\"The result was {result:1.3f}\")\n",
    "# more info about formatting in python\n",
    "# https://pyformat.info/\n"
   ]
  },
  {
   "cell_type": "code",
   "execution_count": 16,
   "metadata": {},
   "outputs": [
    {
     "name": "stdout",
     "output_type": "stream",
     "text": [
      "['A string', 23, 100.232, 'o']\n",
      "type(my_list) - <class 'list'>\n",
      "[23, 100.232, 'o'] ['A string', 23, 100.232]\n",
      "['A string', 23, 100.232, 'o', 'another_list', 'hello']\n",
      "['A string', 'NEW ADDED ELEMENT', 100.232, 'o']\n",
      "['A string', 'NEW ADDED ELEMENT', 100.232, 'o', 'APPENDED ELEMENT']\n",
      "<built-in method pop of list object at 0x7f47f03ae8c0>\n",
      "APPENDED ELEMENT\n",
      "['A string', 'INSERTED ELEMENT', 'NEW ADDED ELEMENT', 100.232, 'o']\n",
      "popping zeroth element -  A string , list now ['INSERTED ELEMENT', 'NEW ADDED ELEMENT', 100.232, 'o']\n",
      "popping -1th element -  o , list now ['INSERTED ELEMENT', 'NEW ADDED ELEMENT', 100.232]\n",
      "sorting list -  ['a', 'e', 'x', 'b', 'c'] and number list -  [4, 1, 8, 3]\n",
      "sorted list ['a', 'b', 'c', 'e', 'x'] and sorted num list descending - [8, 4, 3, 1]\n",
      "reversed num list - [1, 3, 4, 8]\n",
      "['ten', 9, 1.2857142857142858]\n"
     ]
    }
   ],
   "source": [
    "# lists in python\n",
    "my_list = ['A string',23,100.232,'o']\n",
    "print(my_list)\n",
    "print(f\"type(my_list) - {type(my_list)}\")\n",
    "# indexing works just like string, can get sublists by specifying begin and end index\n",
    "print(my_list[1:], my_list[:3])\n",
    "another_list = [\"another_list\", 'hello']\n",
    "# + operation creates new list with elements of second list appended to first list\n",
    "# existing lists are not modified\n",
    "print(my_list + another_list)\n",
    "# list can be mutated by changing elements in place\n",
    "my_list[1] = \"NEW ADDED ELEMENT\"\n",
    "print(my_list)\n",
    "# appending to existing list\n",
    "my_list.append(\"APPENDED ELEMENT\")\n",
    "print(my_list)\n",
    "# below statement doesn't call the function, but it prints detail about the pop function\n",
    "print(my_list.pop)\n",
    "# to remove element and get its value, call the function\n",
    "print(my_list.pop())\n",
    "my_list.insert(1, \"INSERTED ELEMENT\")\n",
    "print(my_list)\n",
    "print(\"popping zeroth element - \",my_list.pop(0), f', list now {my_list}')\n",
    "# pop(-1) equivalent to calling pop with no args\n",
    "print(\"popping -1th element - \",my_list.pop(-1), f', list now {my_list}')\n",
    "new_list = ['a','e','x','b','c']\n",
    "num_list = [4,1,8,3]\n",
    "print(\"sorting list - \", new_list, \"and number list - \",num_list)\n",
    "new_list.sort(); num_list.sort(reverse=True)\n",
    "print(f'sorted list {new_list} and sorted num list descending - {num_list}')\n",
    "# reverse list in place\n",
    "num_list.reverse()\n",
    "print(f'reversed num list - {num_list}')\n",
    "print([\"ten\",9,9/7])"
   ]
  },
  {
   "cell_type": "code",
   "execution_count": 15,
   "metadata": {},
   "outputs": [
    {
     "name": "stdout",
     "output_type": "stream",
     "text": [
      "my_dict['key1'] - value1\n",
      "my_dict - {'key1': 'value1', 'key2': 'value2'}\n",
      "type of my_dict - <class 'dict'>\n",
      "prices_lookup['apple'] - 2.99\n",
      "prices_lookup - {'apple': 2.99, 'orange': 1.99, 'milk': 5.99}\n",
      "d['k2'][2] - 2\n",
      "d['k3']['insideKey'] - 100\n",
      "d - {'k1': 123, 'k2': [0, 1, 2], 'k3': {'insideKey': 100}}\n",
      "d.keys() - dict_keys(['k1', 'k2', 'k3'])\n",
      "d.values() - dict_values([123, [0, 1, 2], {'insideKey': 100}])\n",
      "d.items() - dict_items([('k1', 123), ('k2', [0, 1, 2]), ('k3', {'insideKey': 100})])\n",
      "my_dict['key1'].upper() - VALUE1\n",
      "my_dict - {'key1': 'value1', 'key2': 'value2', 'key3': 'value3'}\n",
      "my_dict - {'key1': 'new value', 'key2': 'value2', 'key3': 'value3'}\n"
     ]
    }
   ],
   "source": [
    "# Dictionaries (map) in python\n",
    "my_dict = {'key1':'value1','key2':'value2'}\n",
    "print(f\"my_dict['key1'] - {my_dict['key1']}\")\n",
    "print(f\"my_dict - {my_dict}\")\n",
    "print(f\"type of my_dict - {type(my_dict)}\")\n",
    "# dictionary mapping string key to number value, price of fruits\n",
    "prices_lookup = {'apple':2.99,'orange':1.99,'milk':5.99}\n",
    "print(f\"prices_lookup['apple'] - {prices_lookup['apple']}\")\n",
    "print(f\"prices_lookup - {prices_lookup}\")\n",
    "# having a list as value, nested dictionary and how to access value from nested dictionary\n",
    "d = {'k1':123,'k2':[0,1,2],'k3':{'insideKey':100}}\n",
    "print(f\"d['k2'][2] - {d['k2'][2]}\")\n",
    "print(f\"d['k3']['insideKey'] - {d['k3']['insideKey']}\")\n",
    "print(f\"d - {d}\")\n",
    "print(f\"d.keys() - {d.keys()}\")\n",
    "print(f\"d.values() - {d.values()}\")\n",
    "print(f\"d.items() - {d.items()}\")\n",
    "# you can invoke methods directly on the values returned from dictionary\n",
    "print(f\"my_dict['key1'].upper() - {my_dict['key1'].upper()}\")\n",
    "# you can also assign values to dictionary keys\n",
    "my_dict['key3'] = 'value3'\n",
    "print(f\"my_dict - {my_dict}\")\n",
    "# you can also overwrite values to dictionary keys\n",
    "my_dict['key1'] = 'new value'\n",
    "print(f\"my_dict - {my_dict}\")"
   ]
  },
  {
   "cell_type": "code",
   "execution_count": 13,
   "metadata": {},
   "outputs": [
    {
     "name": "stdout",
     "output_type": "stream",
     "text": [
      "Tuple: (1, 2, 3)\n"
     ]
    },
    {
     "data": {
      "text/plain": [
       "tuple"
      ]
     },
     "execution_count": 13,
     "metadata": {},
     "output_type": "execute_result"
    }
   ],
   "source": [
    "# tuples in python\n",
    "# tuples (java records) are like lists but are immutable (cannot be modified once created)\n",
    "# create a tuple\n",
    "t = (1,2,3)\n",
    "print(f\"Tuple: {t}\");\n",
    "len(t)\n",
    "type(t)"
   ]
  }
 ],
 "metadata": {
  "kernelspec": {
   "display_name": "Python 3",
   "language": "python",
   "name": "python3"
  },
  "language_info": {
   "codemirror_mode": {
    "name": "ipython",
    "version": 3
   },
   "file_extension": ".py",
   "mimetype": "text/x-python",
   "name": "python",
   "nbconvert_exporter": "python",
   "pygments_lexer": "ipython3",
   "version": "3.11.9"
  }
 },
 "nbformat": 4,
 "nbformat_minor": 2
}
