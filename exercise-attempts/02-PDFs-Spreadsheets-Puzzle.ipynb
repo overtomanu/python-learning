{
 "cells": [
  {
   "cell_type": "markdown",
   "metadata": {},
   "source": [
    "___\n",
    "\n",
    "<a href='https://www.udemy.com/user/joseportilla/'><img src='../Pierian_Data_Logo.png'/></a>\n",
    "___\n",
    "<center><em>Content Copyright by Pierian Data</em></center>"
   ]
  },
  {
   "cell_type": "markdown",
   "metadata": {},
   "source": [
    "# PDFs and Spreadsheets Puzzle Exercise\n",
    "\n",
    "Let's test your skills, the files needed for this puzzle exercise\n",
    "\n",
    "You will need to work with two files for this exercise and solve the following tasks:\n",
    "\n",
    "* Task One: Use Python to extract the Google Drive link from the .csv file. (Hint: Its along the diagonal from top left to bottom right).\n",
    "* Task Two: Download the PDF from the Google Drive link (we already downloaded it for you just in case you can't download from Google Drive) and find the phone number that is in the document. Note: There are different ways of formatting a phone number!"
   ]
  },
  {
   "cell_type": "markdown",
   "metadata": {},
   "source": [
    "## Task One: Grab the Google Drive Link from .csv File"
   ]
  },
  {
   "cell_type": "code",
   "execution_count": 5,
   "metadata": {
    "collapsed": true
   },
   "outputs": [
    {
     "name": "stdout",
     "output_type": "stream",
     "text": [
      "url =>  https://drive.google.com/open?id=1G6SEgg018UB4_4xsAJJ5TdzrhmXipr4Q\n"
     ]
    }
   ],
   "source": [
    "import os\n",
    "import csv\n",
    "import sys\n",
    "# set the path for directory containing input files\n",
    "home_dir=os.environ['HOME']\n",
    "os.chdir(home_dir+\"/MyFiles/Personal/learning/python-learning/Complete-Python-3-Bootcamp-master/15-PDFs-and-Spreadsheets/Exercise_Files/\")\n",
    "data = open('find_the_link.csv',encoding=\"utf-8\")\n",
    "csv_data = csv.reader(data)\n",
    "data_lines = list(csv_data)\n",
    "url=\"\"\n",
    "for i in range(len(data_lines)):\n",
    "    url=url+str(data_lines[i][i])\n",
    "print(\"url => \", url)\n",
    "\n"
   ]
  },
  {
   "cell_type": "markdown",
   "metadata": {},
   "source": [
    "## Task Two: Download the PDF from the Google Drive link and find the phone number that is in the document. "
   ]
  },
  {
   "cell_type": "code",
   "execution_count": 4,
   "metadata": {
    "collapsed": true
   },
   "outputs": [
    {
     "name": "stdout",
     "output_type": "stream",
     "text": [
      "505.503.4455\n"
     ]
    }
   ],
   "source": [
    "# You should get this phone number\n",
    "# 505 503 4455\n",
    "import os\n",
    "import PyPDF2\n",
    "import re\n",
    "\n",
    "home_dir=os.environ['HOME']\n",
    "os.chdir(home_dir+\"/MyFiles/Personal/learning/python-learning/Complete-Python-3-Bootcamp-master/15-PDFs-and-Spreadsheets/Exercise_Files/\")\n",
    "f = open('Find_the_Phone_Number.pdf','rb')\n",
    "pdf_reader = PyPDF2.PdfReader(f)\n",
    "for p in range(len(pdf_reader.pages)):\n",
    "    \n",
    "    page = pdf_reader.pages[p]\n",
    "    match = re.search(r'\\d{3}.*\\d{3}.*\\d{4}', page.extract_text())\n",
    "    if match:\n",
    "        print(match.group())\n",
    "        break;\n"
   ]
  }
 ],
 "metadata": {
  "anaconda-cloud": {},
  "kernelspec": {
   "display_name": "Python 3",
   "language": "python",
   "name": "python3"
  },
  "language_info": {
   "codemirror_mode": {
    "name": "ipython",
    "version": 3
   },
   "file_extension": ".py",
   "mimetype": "text/x-python",
   "name": "python",
   "nbconvert_exporter": "python",
   "pygments_lexer": "ipython3",
   "version": "3.11.9"
  }
 },
 "nbformat": 4,
 "nbformat_minor": 2
}
